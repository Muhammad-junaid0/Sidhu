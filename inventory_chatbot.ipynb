{
  "cells": [
    {
      "cell_type": "markdown",
      "metadata": {
        "id": "view-in-github",
        "colab_type": "text"
      },
      "source": [
        "<a href=\"https://colab.research.google.com/github/Muhammad-junaid0/Sidhu/blob/main/inventory_chatbot.ipynb\" target=\"_parent\"><img src=\"https://colab.research.google.com/assets/colab-badge.svg\" alt=\"Open In Colab\"/></a>"
      ]
    },
    {
      "cell_type": "code",
      "execution_count": null,
      "metadata": {
        "colab": {
          "base_uri": "https://localhost:8080/"
        },
        "id": "jx0DdEA3Qb7m",
        "outputId": "a02ab298-f78d-44de-9b59-7046a20fbf8b"
      },
      "outputs": [
        {
          "output_type": "stream",
          "name": "stderr",
          "text": [
            "[nltk_data] Downloading package punkt to /root/nltk_data...\n",
            "[nltk_data]   Package punkt is already up-to-date!\n"
          ]
        },
        {
          "output_type": "execute_result",
          "data": {
            "text/plain": [
              "True"
            ]
          },
          "metadata": {},
          "execution_count": 23
        }
      ],
      "source": [
        "#necessary imports\n",
        "import nltk\n",
        "nltk.download('punkt')#Sentence tokenizer"
      ]
    },
    {
      "cell_type": "code",
      "execution_count": null,
      "metadata": {
        "id": "Q7eR9DMVQ1hD"
      },
      "outputs": [],
      "source": [
        "import nltk\n",
        "from nltk.stem import WordNetLemmatizer\n",
        "lemmatizer = WordNetLemmatizer()\n",
        "import json\n",
        "import pickle\n",
        "import warnings\n",
        "warnings.filterwarnings('ignore')"
      ]
    },
    {
      "cell_type": "code",
      "execution_count": null,
      "metadata": {
        "id": "U5Hkzuw2Q8P4"
      },
      "outputs": [],
      "source": [
        "import numpy as np\n",
        "import tensorflow as tf\n",
        "from keras.models import Sequential\n",
        "from keras.layers import Dense, Activation, Dropout\n",
        "from tensorflow.keras.optimizers import SGD\n",
        "import random"
      ]
    },
    {
      "cell_type": "code",
      "execution_count": null,
      "metadata": {
        "id": "z-oqn8qiRCAz"
      },
      "outputs": [],
      "source": [
        "words=[]\n",
        "classes = []\n",
        "documents = []\n",
        "ignore_words = ['?', '!']\n",
        "data_file = open('./ims.json').read() # read json file\n",
        "intents = json.loads(data_file) # load json file"
      ]
    },
    {
      "cell_type": "code",
      "execution_count": null,
      "metadata": {
        "id": "cqhAJrGDRRwd"
      },
      "outputs": [],
      "source": [
        "for intent in intents['intents']:\n",
        "    for pattern in intent['patterns']:\n",
        "        #tokenize each word\n",
        "        w = nltk.word_tokenize(pattern)\n",
        "        words.extend(w)# add each elements into list\n",
        "        #combination between patterns and intents\n",
        "        documents.append((w, intent['tag']))#add single element into end of list\n",
        "        # add to tag in our classes list\n",
        "        if intent['tag'] not in classes:\n",
        "            classes.append(intent['tag'])"
      ]
    },
    {
      "cell_type": "code",
      "execution_count": null,
      "metadata": {
        "colab": {
          "base_uri": "https://localhost:8080/"
        },
        "id": "WV9BtYb0RWX6",
        "outputId": "2a4256c5-9e32-435d-ac3f-42da82574b1b"
      },
      "outputs": [
        {
          "output_type": "stream",
          "name": "stderr",
          "text": [
            "[nltk_data] Downloading package wordnet to /root/nltk_data...\n",
            "[nltk_data]   Package wordnet is already up-to-date!\n"
          ]
        },
        {
          "output_type": "execute_result",
          "data": {
            "text/plain": [
              "True"
            ]
          },
          "metadata": {},
          "execution_count": 28
        }
      ],
      "source": [
        "nltk.download('wordnet') #lexical database for the English language"
      ]
    },
    {
      "cell_type": "code",
      "execution_count": null,
      "metadata": {
        "colab": {
          "base_uri": "https://localhost:8080/"
        },
        "id": "opOdWuPnRcK9",
        "outputId": "6d71247c-c1f3-41dc-c0dc-14867a334330"
      },
      "outputs": [
        {
          "output_type": "stream",
          "name": "stderr",
          "text": [
            "[nltk_data] Downloading package omw-1.4 to /root/nltk_data...\n",
            "[nltk_data]   Package omw-1.4 is already up-to-date!\n"
          ]
        },
        {
          "output_type": "execute_result",
          "data": {
            "text/plain": [
              "True"
            ]
          },
          "metadata": {},
          "execution_count": 29
        }
      ],
      "source": [
        "nltk.download('omw-1.4')"
      ]
    },
    {
      "cell_type": "code",
      "execution_count": null,
      "metadata": {
        "colab": {
          "base_uri": "https://localhost:8080/"
        },
        "id": "Ttfa4KCRRg4k",
        "outputId": "3443b7ec-1248-4b98-f823-2941dcd84265"
      },
      "outputs": [
        {
          "output_type": "stream",
          "name": "stdout",
          "text": [
            "179 documents\n",
            " [(['Hi'], 'greeting'), (['How', 'are', 'you', '?'], 'greeting'), (['Is', 'anyone', 'there', '?'], 'greeting'), (['Hello'], 'greeting'), (['Good', 'day'], 'greeting'), (['What', \"'s\", 'up'], 'greeting'), (['how', 'are', 'ya'], 'greeting'), (['heyy'], 'greeting'), (['whatsup'], 'greeting'), (['?', '?', '?', '?', '?', '?', '?', '?'], 'greeting'), (['cya'], 'goodbye'), (['see', 'you'], 'goodbye'), (['bye', 'bye'], 'goodbye'), (['See', 'you', 'later'], 'goodbye'), (['Goodbye'], 'goodbye'), (['I', 'am', 'Leaving'], 'goodbye'), (['Bye'], 'goodbye'), (['Have', 'a', 'Good', 'day'], 'goodbye'), (['talk', 'to', 'you', 'later'], 'goodbye'), (['ttyl'], 'goodbye'), (['i', 'got', 'to', 'go'], 'goodbye'), (['gtg'], 'goodbye'), (['what', 'is', 'the', 'name', 'of', 'your', 'developers'], 'creator'), (['what', 'is', 'the', 'name', 'of', 'your', 'creators'], 'creator'), (['what', 'is', 'the', 'name', 'of', 'the', 'developers'], 'creator'), (['what', 'is', 'the', 'name', 'of', 'the', 'creators'], 'creator'), (['who', 'created', 'you'], 'creator'), (['your', 'developers'], 'creator'), (['your', 'creators'], 'creator'), (['who', 'are', 'your', 'developers'], 'creator'), (['developers'], 'creator'), (['you', 'are', 'made', 'by'], 'creator'), (['you', 'are', 'made', 'by', 'whom'], 'creator'), (['who', 'created', 'you'], 'creator'), (['who', 'create', 'you'], 'creator'), (['creators'], 'creator'), (['who', 'made', 'you'], 'creator'), (['who', 'designed', 'you'], 'creator'), (['name'], 'name'), (['your', 'name'], 'name'), (['do', 'you', 'have', 'a', 'name'], 'name'), (['what', 'are', 'you', 'called'], 'name'), (['what', 'is', 'your', 'name'], 'name'), (['what', 'should', 'I', 'call', 'you'], 'name'), (['whats', 'your', 'name', '?'], 'name'), (['what', 'are', 'you'], 'name'), (['who', 'are', 'you'], 'name'), (['who', 'is', 'this'], 'name'), (['what', 'am', 'i', 'chatting', 'to'], 'name'), (['who', 'am', 'i', 'taking', 'to'], 'name'), (['what', 'are', 'you'], 'name'), (['How', 'can', 'I', 'check', 'the', 'current', 'inventory', 'level', '?'], 'inventory'), (['Is', 'there', 'a', 'way', 'to', 'view', 'the', 'inventory', 'status', '?'], 'inventory'), (['Can', 'you', 'provide', 'information', 'about', 'the', 'stock', 'availability', '?'], 'inventory'), (['What', 'is', 'the', 'current', 'quantity', 'of', 'product', 'X', 'in', 'the', 'inventory', '?'], 'inventory'), (['Do', 'you', 'have', 'enough', 'stock', 'of', 'product', 'X', '?'], 'inventory'), (['What', 'is', 'the', 'current', 'status', 'of', 'my', 'inventory', '?'], 'inventory_status'), (['Can', 'you', 'provide', 'an', 'overview', 'of', 'my', 'inventory', '?'], 'inventory_status'), (['Show', 'me', 'the', 'inventory', 'status', '.'], 'inventory_status'), (['What', 'is', 'the', 'stock', 'situation', '?'], 'inventory_status'), (['Give', 'me', 'an', 'update', 'on', 'my', 'inventory', '.'], 'inventory_status'), (['Can', 'you', 'track', 'my', 'recent', 'order', '?'], 'order'), (['Where', 'is', 'my', 'order', '?'], 'order'), (['Give', 'me', 'an', 'update', 'on', 'my', 'order', 'status', '.'], 'order'), (['I', 'want', 'to', 'know', 'the', 'progress', 'of', 'my', 'order', '.'], 'order'), (['When', 'will', 'my', 'order', 'arrive', '?'], 'order'), (['What', 'happens', 'if', 'a', 'product', 'is', 'out', 'of', 'stock', '?'], 'out'), (['How', 'do', 'you', 'handle', 'products', 'that', 'are', 'out', 'of', 'stock', '?'], 'out'), (['What', 'should', 'I', 'do', 'if', 'an', 'item', 'is', 'not', 'available', '?'], 'out'), (['What', 'is', 'the', 'procedure', 'for', 'managing', 'out-of-stock', 'products', '?'], 'out'), (['What', 'happens', 'when', 'a', 'product', 'is', 'marked', 'as', 'out', 'of', 'stock', '?'], 'out'), (['Can', 'I', 'generate', 'inventory', 'reports', '?'], 'inventory_reports'), (['How', 'can', 'I', 'access', 'inventory', 'reports', '?'], 'inventory_reports'), (['What', 'kind', 'of', 'inventory', 'reports', 'are', 'available', '?'], 'inventory_reports'), (['Are', 'there', 'any', 'predefined', 'inventory', 'reports', '?'], 'inventory_reports'), (['Tell', 'me', 'about', 'the', 'reporting', 'capabilities', 'of', 'the', 'inventory', 'system', '.'], 'inventory_reports'), (['What', 'is', 'the', 'price', 'of', 'product', 'X', '?'], 'price'), (['How', 'much', 'does', 'product', 'X', 'cost', '?'], 'price'), (['Can', 'you', 'provide', 'the', 'price', 'for', 'product', 'X', '?'], 'price'), (['What', 'is', 'the', 'selling', 'price', 'of', 'product', 'X', '?'], 'price'), (['Is', 'there', 'a', 'discount', 'on', 'product', 'X', '?'], 'price'), (['Who', 'is', 'the', 'vendor', 'of', 'product', 'X', '?'], 'vendor'), (['Can', 'you', 'provide', 'the', 'supplier', 'information', 'for', 'product', 'X', '?'], 'vendor'), (['Which', 'company', 'supplies', 'product', 'X', '?'], 'vendor'), (['Where', 'does', 'product', 'X', 'come', 'from', '?'], 'vendor'), (['Who', 'manufactures', 'product', 'X', '?'], 'vendor'), (['Is', 'product', 'X', 'in', 'stock', '?'], 'availability'), (['Do', 'you', 'have', 'product', 'X', 'available', '?'], 'availability'), (['Is', 'product', 'X', 'currently', 'available', 'for', 'purchase', '?'], 'availability'), (['What', 'is', 'the', 'stock', 'status', 'of', 'product', 'X', '?'], 'availability'), (['Can', 'I', 'order', 'product', 'X', '?'], 'availability'), (['How', 'many', 'sales', 'have', 'been', 'made', 'today', '?'], 'sales'), (['Can', 'you', 'provide', 'the', 'total', 'sales', 'for', 'today', '?'], 'sales'), (['What', 'is', 'the', 'number', 'of', 'sales', 'today', '?'], 'sales'), (['Tell', 'me', 'the', 'sales', 'count', 'for', 'today', '.'], 'sales'), (['How', 'many', 'products', 'have', 'been', 'sold', 'today', '?'], 'sales'), (['Can', 'you', 'provide', 'more', 'information', 'about', 'product', 'X', '?'], 'description'), (['What', 'are', 'the', 'specifications', 'of', 'product', 'X', '?'], 'description'), (['Do', 'you', 'have', 'a', 'detailed', 'description', 'for', 'product', 'X', '?'], 'description'), (['Tell', 'me', 'more', 'about', 'product', 'X', '.'], 'description'), (['Can', 'you', 'provide', 'product', 'X', \"'s\", 'features', '?'], 'description'), (['How', 'can', 'I', 'add', 'a', 'new', 'product', 'to', 'the', 'inventory', '?'], 'add'), (['What', 'is', 'the', 'process', 'to', 'add', 'a', 'product', '?'], 'add'), (['Can', 'you', 'guide', 'me', 'on', 'adding', 'products', 'to', 'the', 'inventory', '?'], 'add'), (['I', 'want', 'to', 'add', 'a', 'new', 'product', '.', 'What', 'steps', 'should', 'I', 'follow', '?'], 'add'), (['What', 'are', 'the', 'requirements', 'for', 'adding', 'a', 'product', 'to', 'the', 'inventory', '?'], 'add'), (['How', 'can', 'I', 'remove', 'a', 'product', 'from', 'the', 'inventory', '?'], 'remove'), (['What', 'is', 'the', 'process', 'to', 'delete', 'a', 'product', '?'], 'remove'), (['Can', 'you', 'guide', 'me', 'on', 'removing', 'products', 'from', 'the', 'inventory', '?'], 'remove'), (['I', 'want', 'to', 'remove', 'a', 'product', '.', 'What', 'steps', 'should', 'I', 'follow', '?'], 'remove'), (['What', 'are', 'the', 'requirements', 'for', 'deleting', 'a', 'product', 'from', 'the', 'inventory', '?'], 'remove'), (['How', 'can', 'I', 'update', 'the', 'information', 'of', 'a', 'product', '?'], 'update'), (['What', 'is', 'the', 'process', 'to', 'modify', 'product', 'details', '?'], 'update'), (['Can', 'you', 'guide', 'me', 'on', 'updating', 'product', 'information', '?'], 'update'), (['I', 'want', 'to', 'make', 'changes', 'to', 'a', 'product', '.', 'What', 'steps', 'should', 'I', 'follow', '?'], 'update'), (['What', 'are', 'the', 'requirements', 'for', 'updating', 'product', 'information', '?'], 'update'), (['How', 'can', 'I', 'delete', 'product', 'information', '?'], 'delete'), (['What', 'is', 'the', 'process', 'to', 'remove', 'product', 'details', '?'], 'delete'), (['Can', 'you', 'guide', 'me', 'on', 'deleting', 'product', 'information', '?'], 'delete'), (['I', 'want', 'to', 'delete', 'the', 'information', 'of', 'a', 'product', '.', 'What', 'steps', 'should', 'I', 'follow', '?'], 'delete'), (['What', 'are', 'the', 'requirements', 'for', 'removing', 'product', 'information', '?'], 'delete'), (['How', 'many', 'units', 'of', 'product', 'X', 'are', 'available', '?'], 'quantity'), (['What', 'is', 'the', 'current', 'stock', 'quantity', 'of', 'product', 'X', '?'], 'quantity'), (['Can', 'you', 'provide', 'the', 'inventory', 'count', 'for', 'product', 'X', '?'], 'quantity'), (['How', 'much', 'stock', 'is', 'left', 'for', 'product', 'X', '?'], 'quantity'), (['What', 'is', 'the', 'quantity', 'on', 'hand', 'for', 'product', 'X', '?'], 'quantity'), (['How', 'can', 'I', 'search', 'for', 'a', 'specific', 'product', '?'], 'product_search'), (['Is', 'there', 'a', 'search', 'feature', 'to', 'find', 'products', '?'], 'product_search'), (['Can', 'you', 'assist', 'me', 'in', 'finding', 'a', 'particular', 'product', '?'], 'product_search'), (['What', 'options', 'do', 'I', 'have', 'to', 'search', 'for', 'products', '?'], 'product_search'), (['How', 'does', 'the', 'product', 'search', 'functionality', 'work', '?'], 'product_search'), (['Can', 'you', 'provide', 'more', 'details', 'about', 'a', 'product', '?'], 'product_details'), (['What', 'information', 'can', 'I', 'get', 'about', 'a', 'specific', 'product', '?'], 'product_details'), (['Tell', 'me', 'about', 'the', 'specifications', 'of', 'a', 'product', '.'], 'product_details'), (['What', 'are', 'the', 'features', 'of', 'a', 'particular', 'product', '?'], 'product_details'), (['Can', 'you', 'give', 'me', 'a', 'description', 'of', 'a', 'product', '?'], 'product_details'), (['Are', 'there', 'any', 'discounts', 'available', '?'], 'discount'), (['Can', 'I', 'get', 'a', 'discount', 'on', 'product', 'X', '?'], 'discount'), (['Do', 'you', 'offer', 'promotional', 'discounts', '?'], 'discount'), (['How', 'can', 'I', 'avail', 'discounts', '?'], 'discount'), (['Are', 'there', 'any', 'ongoing', 'sales', 'or', 'offers', '?'], 'discount'), (['How', 'do', 'I', 'know', 'if', 'a', 'product', 'is', 'running', 'low', 'on', 'stock', '?'], 'low'), (['Is', 'there', 'a', 'way', 'to', 'monitor', 'low', 'stock', 'items', '?'], 'low'), (['Can', 'you', 'alert', 'me', 'when', 'a', 'product', 'is', 'running', 'out', 'of', 'stock', '?'], 'low'), (['What', 'happens', 'if', 'a', 'product', \"'s\", 'stock', 'level', 'is', 'low', '?'], 'low'), (['How', 'can', 'I', 'keep', 'track', 'of', 'products', 'that', 'are', 'running', 'low', 'on', 'stock', '?'], 'low'), (['How', 'can', 'I', 'place', 'an', 'order', 'for', 'products', '?'], 'placement'), (['What', 'is', 'the', 'process', 'for', 'ordering', 'items', '?'], 'placement'), (['Can', 'you', 'guide', 'me', 'on', 'placing', 'an', 'order', '?'], 'placement'), (['I', 'want', 'to', 'purchase', 'products', '.', 'What', 'steps', 'should', 'I', 'follow', '?'], 'placement'), (['What', 'are', 'the', 'requirements', 'for', 'placing', 'an', 'order', '?'], 'placement'), (['fuck'], 'swear'), (['bitch'], 'swear'), (['shut', 'up'], 'swear'), (['hell'], 'swear'), (['stupid'], 'swear'), (['idiot'], 'swear'), (['dumb', 'ass'], 'swear'), (['asshole'], 'swear'), (['fucker'], 'swear'), (['okk'], 'salutaion'), (['okie'], 'salutaion'), (['nice', 'work'], 'salutaion'), (['well', 'done'], 'salutaion'), (['good', 'job'], 'salutaion'), (['thanks', 'for', 'the', 'help'], 'salutaion'), (['Thank', 'You'], 'salutaion'), (['its', 'ok'], 'salutaion'), (['Thanks'], 'salutaion'), (['Good', 'work'], 'salutaion'), (['k'], 'salutaion'), (['ok'], 'salutaion'), (['okay'], 'salutaion'), (['what', 'can', 'you', 'do'], 'task'), (['what', 'are', 'the', 'thing', 'you', 'can', 'do'], 'task'), (['things', 'you', 'can', 'do'], 'task'), (['what', 'can', 'u', 'do', 'for', 'me'], 'task'), (['how', 'u', 'can', 'help', 'me'], 'task'), (['why', 'i', 'should', 'use', 'you'], 'task')] \n",
            "\n",
            "27 classes\n",
            " ['add', 'availability', 'creator', 'delete', 'description', 'discount', 'goodbye', 'greeting', 'inventory', 'inventory_reports', 'inventory_status', 'low', 'name', 'order', 'out', 'placement', 'price', 'product_details', 'product_search', 'quantity', 'remove', 'sales', 'salutaion', 'swear', 'task', 'update', 'vendor'] \n",
            "\n",
            "213 unique lemmatized words\n",
            " [\"'s\", '.', 'a', 'about', 'access', 'add', 'adding', 'alert', 'am', 'an', 'any', 'anyone', 'are', 'arrive', 'as', 'asshole', 'assist', 'avail', 'availability', 'available', 'been', 'bitch', 'by', 'bye', 'call', 'called', 'can', 'capability', 'change', 'chatting', 'check', 'come', 'company', 'cost', 'count', 'create', 'created', 'creator', 'current', 'currently', 'cya', 'day', 'delete', 'deleting', 'description', 'designed', 'detail', 'detailed', 'developer', 'discount', 'do', 'doe', 'done', 'dumb', 'enough', 'feature', 'find', 'finding', 'follow', 'for', 'from', 'fuck', 'fucker', 'functionality', 'generate', 'get', 'give', 'go', 'good', 'goodbye', 'got', 'gtg', 'guide', 'hand', 'handle', 'happens', 'have', 'hell', 'hello', 'help', 'heyy', 'hi', 'how', 'i', 'idiot', 'if', 'in', 'information', 'inventory', 'is', 'it', 'item', 'job', 'k', 'keep', 'kind', 'know', 'later', 'leaving', 'left', 'level', 'low', 'made', 'make', 'managing', 'manufacture', 'many', 'marked', 'me', 'modify', 'monitor', 'more', 'much', 'my', 'name', 'new', 'nice', 'not', 'number', 'of', 'offer', 'ok', 'okay', 'okie', 'okk', 'on', 'ongoing', 'option', 'or', 'order', 'ordering', 'out', 'out-of-stock', 'overview', 'particular', 'place', 'placing', 'predefined', 'price', 'procedure', 'process', 'product', 'progress', 'promotional', 'provide', 'purchase', 'quantity', 'recent', 'remove', 'removing', 'report', 'reporting', 'requirement', 'running', 'sale', 'search', 'see', 'selling', 'should', 'show', 'shut', 'situation', 'sold', 'specific', 'specification', 'status', 'step', 'stock', 'stupid', 'supplier', 'supply', 'system', 'taking', 'talk', 'tell', 'thank', 'thanks', 'that', 'the', 'there', 'thing', 'this', 'to', 'today', 'total', 'track', 'ttyl', 'u', 'unit', 'up', 'update', 'updating', 'use', 'vendor', 'view', 'want', 'way', 'well', 'what', 'whats', 'whatsup', 'when', 'where', 'which', 'who', 'whom', 'why', 'will', 'work', 'x', 'ya', 'you', 'your'] \n",
            "\n"
          ]
        }
      ],
      "source": [
        "# lemmatize, lower each word and remove duplicates\n",
        "words = [lemmatizer.lemmatize(w.lower()) for w in words if w not in ignore_words]\n",
        "words = sorted(list(set(words)))\n",
        "# sort classes\n",
        "classes = sorted(list(set(classes)))\n",
        "# documents = combination between patterns and intents\n",
        "print (len(documents), \"documents\\n\", documents, \"\\n\")\n",
        "# classes = intents[tag]\n",
        "print (len(classes), \"classes\\n\", classes, \"\\n\")\n",
        "# words = all words, vocabulary\n",
        "print (len(words), \"unique lemmatized words\\n\", words, \"\\n\")\n",
        "pickle.dump(words,open('words.pkl','wb'))\n",
        "pickle.dump(classes,open('classes.pkl','wb'))"
      ]
    },
    {
      "cell_type": "code",
      "execution_count": null,
      "metadata": {
        "colab": {
          "base_uri": "https://localhost:8080/"
        },
        "id": "CstdszIdR3eg",
        "outputId": "c4d75e81-6659-4a5e-c0b6-2458f48a4eed"
      },
      "outputs": [
        {
          "output_type": "stream",
          "name": "stdout",
          "text": [
            "Training data created\n"
          ]
        }
      ],
      "source": [
        "# create our training data\n",
        "from sklearn.model_selection import train_test_split\n",
        "training = []\n",
        "# create an empty array for our output\n",
        "output_empty = [0] * len(classes)\n",
        "# training set, bag of words for each sentence\n",
        "for doc in documents:\n",
        "    # initialize our bag of words\n",
        "    bag = []\n",
        "    # list of tokenized words\n",
        "    pattern_words = doc[0]\n",
        "    # convert pattern_words in lower case\n",
        "    pattern_words = [lemmatizer.lemmatize(word.lower()) for word in pattern_words]\n",
        "    # create bag of words array,if word match found in current pattern then put 1 otherwise 0.[row * colm(263)]\n",
        "    for w in words:\n",
        "        bag.append(1) if w in pattern_words else bag.append(0)\n",
        "    # in output array 0 value for each tag ang 1 value for matched tag.[row * colm(8)]\n",
        "    output_row = list(output_empty)\n",
        "    output_row[classes.index(doc[1])] = 1\n",
        "\n",
        "    training.append([bag, output_row])\n",
        "# shuffle training and turn into np.array\n",
        "random.shuffle(training)\n",
        "training = np.array(training)\n",
        "# create train and test. X - patterns(words), Y - intents(tags)\n",
        "train_data, test_data = train_test_split(training, test_size=0.1, random_state=42)\n",
        "\n",
        "test_x = list(test_data[:,0])\n",
        "test_y = list(test_data[:,1])\n",
        "train_x = list(training[:,0])\n",
        "train_y = list(training[:,1])\n",
        "print(\"Training data created\")"
      ]
    },
    {
      "cell_type": "code",
      "execution_count": null,
      "metadata": {
        "id": "Xsz54qV1SMNd"
      },
      "outputs": [],
      "source": [
        "from tensorflow.python.framework import ops\n",
        "ops.reset_default_graph()"
      ]
    },
    {
      "cell_type": "code",
      "execution_count": null,
      "metadata": {
        "id": "5EutGOIjSQPa",
        "colab": {
          "base_uri": "https://localhost:8080/"
        },
        "outputId": "8ddd5eba-1463-49a6-e2a6-2d86a6f2e8db"
      },
      "outputs": [
        {
          "output_type": "stream",
          "name": "stdout",
          "text": [
            "First layer: [[ 0.01801264  0.11670801  0.04207218 ...  0.03714307  0.12132052\n",
            "   0.01159742]\n",
            " [-0.07534619  0.00909741  0.02846409 ...  0.03179881  0.07933034\n",
            "  -0.05854315]\n",
            " [-0.06581324 -0.08598308 -0.02383956 ...  0.09780252  0.02115522\n",
            "  -0.12026882]\n",
            " ...\n",
            " [ 0.08235382  0.09027283 -0.08654037 ...  0.06701319 -0.09271523\n",
            "   0.14575475]\n",
            " [-0.13015302 -0.04039358  0.02917515 ... -0.07630455  0.0298977\n",
            "  -0.07684629]\n",
            " [ 0.0476301  -0.0536554   0.11290285 ... -0.00632535  0.04309094\n",
            "   0.07724182]]\n"
          ]
        }
      ],
      "source": [
        "# Create model - 3 layers. First layer 64 neurons, second layer 32 neurons and 3rd output layer contains number of neurons\n",
        "# equal to number of intents to predict output intent with softmax\n",
        "model = Sequential()\n",
        "model.add(Dense(64, input_shape=(len(train_x[0]),), activation='relu'))\n",
        "model.add(Dense(32, activation='relu'))\n",
        "model.add(Dense(len(train_y[0]), activation='softmax'))\n",
        "print(\"First layer:\",model.layers[0].get_weights()[0])"
      ]
    },
    {
      "cell_type": "code",
      "execution_count": null,
      "metadata": {
        "id": "umrnpJ8ASUeZ"
      },
      "outputs": [],
      "source": [
        "# Compile model. Stochastic gradient descent with Nesterov accelerated gradient gives good results for this model\n",
        "# sgd = SGD(lr=0.01, decay=1e-6, momentum=0.9, nesterov=True)\n",
        "model.compile(loss='categorical_crossentropy', optimizer='adam', metrics=['accuracy'])"
      ]
    },
    {
      "cell_type": "code",
      "execution_count": null,
      "metadata": {
        "id": "KSh28j8-SX-J",
        "colab": {
          "base_uri": "https://localhost:8080/"
        },
        "outputId": "94ce2c09-d95c-47ad-eafc-72eb3796374f"
      },
      "outputs": [
        {
          "output_type": "stream",
          "name": "stdout",
          "text": [
            "Epoch 1/200\n",
            "36/36 [==============================] - 1s 3ms/step - loss: 3.2997 - accuracy: 0.0279\n",
            "Epoch 2/200\n",
            "36/36 [==============================] - 0s 3ms/step - loss: 3.2215 - accuracy: 0.1341\n",
            "Epoch 3/200\n",
            "36/36 [==============================] - 0s 3ms/step - loss: 3.1418 - accuracy: 0.2011\n",
            "Epoch 4/200\n",
            "36/36 [==============================] - 0s 3ms/step - loss: 3.0288 - accuracy: 0.2682\n",
            "Epoch 5/200\n",
            "36/36 [==============================] - 0s 4ms/step - loss: 2.8769 - accuracy: 0.3575\n",
            "Epoch 6/200\n",
            "36/36 [==============================] - 0s 3ms/step - loss: 2.6610 - accuracy: 0.4358\n",
            "Epoch 7/200\n",
            "36/36 [==============================] - 0s 3ms/step - loss: 2.3855 - accuracy: 0.4916\n",
            "Epoch 8/200\n",
            "36/36 [==============================] - 0s 3ms/step - loss: 2.0542 - accuracy: 0.6425\n",
            "Epoch 9/200\n",
            "36/36 [==============================] - 0s 3ms/step - loss: 1.7094 - accuracy: 0.7542\n",
            "Epoch 10/200\n",
            "36/36 [==============================] - 0s 3ms/step - loss: 1.3932 - accuracy: 0.8380\n",
            "Epoch 11/200\n",
            "36/36 [==============================] - 0s 3ms/step - loss: 1.1134 - accuracy: 0.8659\n",
            "Epoch 12/200\n",
            "36/36 [==============================] - 0s 3ms/step - loss: 0.8723 - accuracy: 0.9274\n",
            "Epoch 13/200\n",
            "36/36 [==============================] - 0s 3ms/step - loss: 0.6813 - accuracy: 0.9553\n",
            "Epoch 14/200\n",
            "36/36 [==============================] - 0s 4ms/step - loss: 0.5453 - accuracy: 0.9609\n",
            "Epoch 15/200\n",
            "36/36 [==============================] - 0s 3ms/step - loss: 0.4330 - accuracy: 0.9888\n",
            "Epoch 16/200\n",
            "36/36 [==============================] - 0s 3ms/step - loss: 0.3440 - accuracy: 1.0000\n",
            "Epoch 17/200\n",
            "36/36 [==============================] - 0s 3ms/step - loss: 0.2775 - accuracy: 0.9944\n",
            "Epoch 18/200\n",
            "36/36 [==============================] - 0s 4ms/step - loss: 0.2295 - accuracy: 1.0000\n",
            "Epoch 19/200\n",
            "36/36 [==============================] - 0s 3ms/step - loss: 0.1849 - accuracy: 1.0000\n",
            "Epoch 20/200\n",
            "36/36 [==============================] - 0s 3ms/step - loss: 0.1547 - accuracy: 1.0000\n",
            "Epoch 21/200\n",
            "36/36 [==============================] - 0s 3ms/step - loss: 0.1313 - accuracy: 1.0000\n",
            "Epoch 22/200\n",
            "36/36 [==============================] - 0s 3ms/step - loss: 0.1128 - accuracy: 1.0000\n",
            "Epoch 23/200\n",
            "36/36 [==============================] - 0s 3ms/step - loss: 0.0957 - accuracy: 1.0000\n",
            "Epoch 24/200\n",
            "36/36 [==============================] - 0s 3ms/step - loss: 0.0830 - accuracy: 1.0000\n",
            "Epoch 25/200\n",
            "36/36 [==============================] - 0s 3ms/step - loss: 0.0737 - accuracy: 1.0000\n",
            "Epoch 26/200\n",
            "36/36 [==============================] - 0s 3ms/step - loss: 0.0652 - accuracy: 1.0000\n",
            "Epoch 27/200\n",
            "36/36 [==============================] - 0s 3ms/step - loss: 0.0582 - accuracy: 1.0000\n",
            "Epoch 28/200\n",
            "36/36 [==============================] - 0s 3ms/step - loss: 0.0523 - accuracy: 1.0000\n",
            "Epoch 29/200\n",
            "36/36 [==============================] - 0s 3ms/step - loss: 0.0484 - accuracy: 1.0000\n",
            "Epoch 30/200\n",
            "36/36 [==============================] - 0s 3ms/step - loss: 0.0441 - accuracy: 1.0000\n",
            "Epoch 31/200\n",
            "36/36 [==============================] - 0s 3ms/step - loss: 0.0386 - accuracy: 1.0000\n",
            "Epoch 32/200\n",
            "36/36 [==============================] - 0s 3ms/step - loss: 0.0356 - accuracy: 1.0000\n",
            "Epoch 33/200\n",
            "36/36 [==============================] - 0s 3ms/step - loss: 0.0323 - accuracy: 1.0000\n",
            "Epoch 34/200\n",
            "36/36 [==============================] - 0s 3ms/step - loss: 0.0300 - accuracy: 1.0000\n",
            "Epoch 35/200\n",
            "36/36 [==============================] - 0s 3ms/step - loss: 0.0278 - accuracy: 1.0000\n",
            "Epoch 36/200\n",
            "36/36 [==============================] - 0s 3ms/step - loss: 0.0259 - accuracy: 1.0000\n",
            "Epoch 37/200\n",
            "36/36 [==============================] - 0s 3ms/step - loss: 0.0241 - accuracy: 1.0000\n",
            "Epoch 38/200\n",
            "36/36 [==============================] - 0s 3ms/step - loss: 0.0224 - accuracy: 1.0000\n",
            "Epoch 39/200\n",
            "36/36 [==============================] - 0s 3ms/step - loss: 0.0208 - accuracy: 1.0000\n",
            "Epoch 40/200\n",
            "36/36 [==============================] - 0s 3ms/step - loss: 0.0193 - accuracy: 1.0000\n",
            "Epoch 41/200\n",
            "36/36 [==============================] - 0s 3ms/step - loss: 0.0182 - accuracy: 1.0000\n",
            "Epoch 42/200\n",
            "36/36 [==============================] - 0s 3ms/step - loss: 0.0171 - accuracy: 1.0000\n",
            "Epoch 43/200\n",
            "36/36 [==============================] - 0s 3ms/step - loss: 0.0161 - accuracy: 1.0000\n",
            "Epoch 44/200\n",
            "36/36 [==============================] - 0s 3ms/step - loss: 0.0151 - accuracy: 1.0000\n",
            "Epoch 45/200\n",
            "36/36 [==============================] - 0s 3ms/step - loss: 0.0142 - accuracy: 1.0000\n",
            "Epoch 46/200\n",
            "36/36 [==============================] - 0s 3ms/step - loss: 0.0135 - accuracy: 1.0000\n",
            "Epoch 47/200\n",
            "36/36 [==============================] - 0s 4ms/step - loss: 0.0127 - accuracy: 1.0000\n",
            "Epoch 48/200\n",
            "36/36 [==============================] - 0s 3ms/step - loss: 0.0122 - accuracy: 1.0000\n",
            "Epoch 49/200\n",
            "36/36 [==============================] - 0s 4ms/step - loss: 0.0114 - accuracy: 1.0000\n",
            "Epoch 50/200\n",
            "36/36 [==============================] - 0s 5ms/step - loss: 0.0107 - accuracy: 1.0000\n",
            "Epoch 51/200\n",
            "36/36 [==============================] - 0s 5ms/step - loss: 0.0102 - accuracy: 1.0000\n",
            "Epoch 52/200\n",
            "36/36 [==============================] - 0s 4ms/step - loss: 0.0096 - accuracy: 1.0000\n",
            "Epoch 53/200\n",
            "36/36 [==============================] - 0s 5ms/step - loss: 0.0091 - accuracy: 1.0000\n",
            "Epoch 54/200\n",
            "36/36 [==============================] - 0s 5ms/step - loss: 0.0088 - accuracy: 1.0000\n",
            "Epoch 55/200\n",
            "36/36 [==============================] - 0s 5ms/step - loss: 0.0083 - accuracy: 1.0000\n",
            "Epoch 56/200\n",
            "36/36 [==============================] - 0s 5ms/step - loss: 0.0079 - accuracy: 1.0000\n",
            "Epoch 57/200\n",
            "36/36 [==============================] - 0s 5ms/step - loss: 0.0076 - accuracy: 1.0000\n",
            "Epoch 58/200\n",
            "36/36 [==============================] - 0s 4ms/step - loss: 0.0072 - accuracy: 1.0000\n",
            "Epoch 59/200\n",
            "36/36 [==============================] - 0s 5ms/step - loss: 0.0068 - accuracy: 1.0000\n",
            "Epoch 60/200\n",
            "36/36 [==============================] - 0s 4ms/step - loss: 0.0065 - accuracy: 1.0000\n",
            "Epoch 61/200\n",
            "36/36 [==============================] - 0s 4ms/step - loss: 0.0062 - accuracy: 1.0000\n",
            "Epoch 62/200\n",
            "36/36 [==============================] - 0s 5ms/step - loss: 0.0059 - accuracy: 1.0000\n",
            "Epoch 63/200\n",
            "36/36 [==============================] - 0s 4ms/step - loss: 0.0057 - accuracy: 1.0000\n",
            "Epoch 64/200\n",
            "36/36 [==============================] - 0s 3ms/step - loss: 0.0055 - accuracy: 1.0000\n",
            "Epoch 65/200\n",
            "36/36 [==============================] - 0s 3ms/step - loss: 0.0052 - accuracy: 1.0000\n",
            "Epoch 66/200\n",
            "36/36 [==============================] - 0s 4ms/step - loss: 0.0050 - accuracy: 1.0000\n",
            "Epoch 67/200\n",
            "36/36 [==============================] - 0s 3ms/step - loss: 0.0048 - accuracy: 1.0000\n",
            "Epoch 68/200\n",
            "36/36 [==============================] - 0s 3ms/step - loss: 0.0046 - accuracy: 1.0000\n",
            "Epoch 69/200\n",
            "36/36 [==============================] - 0s 3ms/step - loss: 0.0044 - accuracy: 1.0000\n",
            "Epoch 70/200\n",
            "36/36 [==============================] - 0s 3ms/step - loss: 0.0042 - accuracy: 1.0000\n",
            "Epoch 71/200\n",
            "36/36 [==============================] - 0s 3ms/step - loss: 0.0041 - accuracy: 1.0000\n",
            "Epoch 72/200\n",
            "36/36 [==============================] - 0s 3ms/step - loss: 0.0039 - accuracy: 1.0000\n",
            "Epoch 73/200\n",
            "36/36 [==============================] - 0s 3ms/step - loss: 0.0038 - accuracy: 1.0000\n",
            "Epoch 74/200\n",
            "36/36 [==============================] - 0s 3ms/step - loss: 0.0036 - accuracy: 1.0000\n",
            "Epoch 75/200\n",
            "36/36 [==============================] - 0s 3ms/step - loss: 0.0035 - accuracy: 1.0000\n",
            "Epoch 76/200\n",
            "36/36 [==============================] - 0s 3ms/step - loss: 0.0034 - accuracy: 1.0000\n",
            "Epoch 77/200\n",
            "36/36 [==============================] - 0s 3ms/step - loss: 0.0032 - accuracy: 1.0000\n",
            "Epoch 78/200\n",
            "36/36 [==============================] - 0s 3ms/step - loss: 0.0031 - accuracy: 1.0000\n",
            "Epoch 79/200\n",
            "36/36 [==============================] - 0s 3ms/step - loss: 0.0030 - accuracy: 1.0000\n",
            "Epoch 80/200\n",
            "36/36 [==============================] - 0s 3ms/step - loss: 0.0029 - accuracy: 1.0000\n",
            "Epoch 81/200\n",
            "36/36 [==============================] - 0s 3ms/step - loss: 0.0028 - accuracy: 1.0000\n",
            "Epoch 82/200\n",
            "36/36 [==============================] - 0s 3ms/step - loss: 0.0027 - accuracy: 1.0000\n",
            "Epoch 83/200\n",
            "36/36 [==============================] - 0s 3ms/step - loss: 0.0026 - accuracy: 1.0000\n",
            "Epoch 84/200\n",
            "36/36 [==============================] - 0s 3ms/step - loss: 0.0025 - accuracy: 1.0000\n",
            "Epoch 85/200\n",
            "36/36 [==============================] - 0s 4ms/step - loss: 0.0024 - accuracy: 1.0000\n",
            "Epoch 86/200\n",
            "36/36 [==============================] - 0s 3ms/step - loss: 0.0024 - accuracy: 1.0000\n",
            "Epoch 87/200\n",
            "36/36 [==============================] - 0s 3ms/step - loss: 0.0023 - accuracy: 1.0000\n",
            "Epoch 88/200\n",
            "36/36 [==============================] - 0s 3ms/step - loss: 0.0022 - accuracy: 1.0000\n",
            "Epoch 89/200\n",
            "36/36 [==============================] - 0s 3ms/step - loss: 0.0021 - accuracy: 1.0000\n",
            "Epoch 90/200\n",
            "36/36 [==============================] - 0s 3ms/step - loss: 0.0020 - accuracy: 1.0000\n",
            "Epoch 91/200\n",
            "36/36 [==============================] - 0s 3ms/step - loss: 0.0020 - accuracy: 1.0000\n",
            "Epoch 92/200\n",
            "36/36 [==============================] - 0s 3ms/step - loss: 0.0019 - accuracy: 1.0000\n",
            "Epoch 93/200\n",
            "36/36 [==============================] - 0s 3ms/step - loss: 0.0019 - accuracy: 1.0000\n",
            "Epoch 94/200\n",
            "36/36 [==============================] - 0s 3ms/step - loss: 0.0018 - accuracy: 1.0000\n",
            "Epoch 95/200\n",
            "36/36 [==============================] - 0s 3ms/step - loss: 0.0018 - accuracy: 1.0000\n",
            "Epoch 96/200\n",
            "36/36 [==============================] - 0s 3ms/step - loss: 0.0017 - accuracy: 1.0000\n",
            "Epoch 97/200\n",
            "36/36 [==============================] - 0s 3ms/step - loss: 0.0016 - accuracy: 1.0000\n",
            "Epoch 98/200\n",
            "36/36 [==============================] - 0s 3ms/step - loss: 0.0016 - accuracy: 1.0000\n",
            "Epoch 99/200\n",
            "36/36 [==============================] - 0s 3ms/step - loss: 0.0015 - accuracy: 1.0000\n",
            "Epoch 100/200\n",
            "36/36 [==============================] - 0s 3ms/step - loss: 0.0015 - accuracy: 1.0000\n",
            "Epoch 101/200\n",
            "36/36 [==============================] - 0s 3ms/step - loss: 0.0014 - accuracy: 1.0000\n",
            "Epoch 102/200\n",
            "36/36 [==============================] - 0s 3ms/step - loss: 0.0014 - accuracy: 1.0000\n",
            "Epoch 103/200\n",
            "36/36 [==============================] - 0s 3ms/step - loss: 0.0013 - accuracy: 1.0000\n",
            "Epoch 104/200\n",
            "36/36 [==============================] - 0s 4ms/step - loss: 0.0013 - accuracy: 1.0000\n",
            "Epoch 105/200\n",
            "36/36 [==============================] - 0s 3ms/step - loss: 0.0013 - accuracy: 1.0000\n",
            "Epoch 106/200\n",
            "36/36 [==============================] - 0s 3ms/step - loss: 0.0012 - accuracy: 1.0000\n",
            "Epoch 107/200\n",
            "36/36 [==============================] - 0s 3ms/step - loss: 0.0012 - accuracy: 1.0000\n",
            "Epoch 108/200\n",
            "36/36 [==============================] - 0s 3ms/step - loss: 0.0012 - accuracy: 1.0000\n",
            "Epoch 109/200\n",
            "36/36 [==============================] - 0s 3ms/step - loss: 0.0011 - accuracy: 1.0000\n",
            "Epoch 110/200\n",
            "36/36 [==============================] - 0s 3ms/step - loss: 0.0011 - accuracy: 1.0000\n",
            "Epoch 111/200\n",
            "36/36 [==============================] - 0s 3ms/step - loss: 0.0011 - accuracy: 1.0000\n",
            "Epoch 112/200\n",
            "36/36 [==============================] - 0s 3ms/step - loss: 0.0010 - accuracy: 1.0000\n",
            "Epoch 113/200\n",
            "36/36 [==============================] - 0s 3ms/step - loss: 0.0010 - accuracy: 1.0000\n",
            "Epoch 114/200\n",
            "36/36 [==============================] - 0s 3ms/step - loss: 9.8018e-04 - accuracy: 1.0000\n",
            "Epoch 115/200\n",
            "36/36 [==============================] - 0s 3ms/step - loss: 9.4877e-04 - accuracy: 1.0000\n",
            "Epoch 116/200\n",
            "36/36 [==============================] - 0s 3ms/step - loss: 9.2135e-04 - accuracy: 1.0000\n",
            "Epoch 117/200\n",
            "36/36 [==============================] - 0s 3ms/step - loss: 8.9931e-04 - accuracy: 1.0000\n",
            "Epoch 118/200\n",
            "36/36 [==============================] - 0s 3ms/step - loss: 8.7591e-04 - accuracy: 1.0000\n",
            "Epoch 119/200\n",
            "36/36 [==============================] - 0s 3ms/step - loss: 8.5094e-04 - accuracy: 1.0000\n",
            "Epoch 120/200\n",
            "36/36 [==============================] - 0s 3ms/step - loss: 8.1996e-04 - accuracy: 1.0000\n",
            "Epoch 121/200\n",
            "36/36 [==============================] - 0s 3ms/step - loss: 8.0119e-04 - accuracy: 1.0000\n",
            "Epoch 122/200\n",
            "36/36 [==============================] - 0s 3ms/step - loss: 7.7566e-04 - accuracy: 1.0000\n",
            "Epoch 123/200\n",
            "36/36 [==============================] - 0s 4ms/step - loss: 7.5902e-04 - accuracy: 1.0000\n",
            "Epoch 124/200\n",
            "36/36 [==============================] - 0s 3ms/step - loss: 7.3915e-04 - accuracy: 1.0000\n",
            "Epoch 125/200\n",
            "36/36 [==============================] - 0s 3ms/step - loss: 7.1718e-04 - accuracy: 1.0000\n",
            "Epoch 126/200\n",
            "36/36 [==============================] - 0s 3ms/step - loss: 6.9954e-04 - accuracy: 1.0000\n",
            "Epoch 127/200\n",
            "36/36 [==============================] - 0s 4ms/step - loss: 6.8191e-04 - accuracy: 1.0000\n",
            "Epoch 128/200\n",
            "36/36 [==============================] - 0s 3ms/step - loss: 6.6339e-04 - accuracy: 1.0000\n",
            "Epoch 129/200\n",
            "36/36 [==============================] - 0s 4ms/step - loss: 6.4406e-04 - accuracy: 1.0000\n",
            "Epoch 130/200\n",
            "36/36 [==============================] - 0s 3ms/step - loss: 6.2525e-04 - accuracy: 1.0000\n",
            "Epoch 131/200\n",
            "36/36 [==============================] - 0s 3ms/step - loss: 6.1516e-04 - accuracy: 1.0000\n",
            "Epoch 132/200\n",
            "36/36 [==============================] - 0s 3ms/step - loss: 5.9562e-04 - accuracy: 1.0000\n",
            "Epoch 133/200\n",
            "36/36 [==============================] - 0s 3ms/step - loss: 5.7853e-04 - accuracy: 1.0000\n",
            "Epoch 134/200\n",
            "36/36 [==============================] - 0s 3ms/step - loss: 5.6599e-04 - accuracy: 1.0000\n",
            "Epoch 135/200\n",
            "36/36 [==============================] - 0s 3ms/step - loss: 5.5048e-04 - accuracy: 1.0000\n",
            "Epoch 136/200\n",
            "36/36 [==============================] - 0s 3ms/step - loss: 5.3511e-04 - accuracy: 1.0000\n",
            "Epoch 137/200\n",
            "36/36 [==============================] - 0s 3ms/step - loss: 5.2300e-04 - accuracy: 1.0000\n",
            "Epoch 138/200\n",
            "36/36 [==============================] - 0s 4ms/step - loss: 5.0961e-04 - accuracy: 1.0000\n",
            "Epoch 139/200\n",
            "36/36 [==============================] - 0s 3ms/step - loss: 4.9576e-04 - accuracy: 1.0000\n",
            "Epoch 140/200\n",
            "36/36 [==============================] - 0s 3ms/step - loss: 4.8296e-04 - accuracy: 1.0000\n",
            "Epoch 141/200\n",
            "36/36 [==============================] - 0s 3ms/step - loss: 4.7120e-04 - accuracy: 1.0000\n",
            "Epoch 142/200\n",
            "36/36 [==============================] - 0s 3ms/step - loss: 4.5992e-04 - accuracy: 1.0000\n",
            "Epoch 143/200\n",
            "36/36 [==============================] - 0s 4ms/step - loss: 4.4909e-04 - accuracy: 1.0000\n",
            "Epoch 144/200\n",
            "36/36 [==============================] - 0s 5ms/step - loss: 4.3775e-04 - accuracy: 1.0000\n",
            "Epoch 145/200\n",
            "36/36 [==============================] - 0s 4ms/step - loss: 4.2595e-04 - accuracy: 1.0000\n",
            "Epoch 146/200\n",
            "36/36 [==============================] - 0s 5ms/step - loss: 4.2071e-04 - accuracy: 1.0000\n",
            "Epoch 147/200\n",
            "36/36 [==============================] - 0s 4ms/step - loss: 4.0566e-04 - accuracy: 1.0000\n",
            "Epoch 148/200\n",
            "36/36 [==============================] - 0s 5ms/step - loss: 3.9574e-04 - accuracy: 1.0000\n",
            "Epoch 149/200\n",
            "36/36 [==============================] - 0s 4ms/step - loss: 3.8505e-04 - accuracy: 1.0000\n",
            "Epoch 150/200\n",
            "36/36 [==============================] - 0s 4ms/step - loss: 3.7575e-04 - accuracy: 1.0000\n",
            "Epoch 151/200\n",
            "36/36 [==============================] - 0s 4ms/step - loss: 3.6929e-04 - accuracy: 1.0000\n",
            "Epoch 152/200\n",
            "36/36 [==============================] - 0s 5ms/step - loss: 3.5728e-04 - accuracy: 1.0000\n",
            "Epoch 153/200\n",
            "36/36 [==============================] - 0s 5ms/step - loss: 3.4834e-04 - accuracy: 1.0000\n",
            "Epoch 154/200\n",
            "36/36 [==============================] - 0s 5ms/step - loss: 3.4003e-04 - accuracy: 1.0000\n",
            "Epoch 155/200\n",
            "36/36 [==============================] - 0s 5ms/step - loss: 3.3187e-04 - accuracy: 1.0000\n",
            "Epoch 156/200\n",
            "36/36 [==============================] - 0s 5ms/step - loss: 3.2427e-04 - accuracy: 1.0000\n",
            "Epoch 157/200\n",
            "36/36 [==============================] - 0s 4ms/step - loss: 3.1654e-04 - accuracy: 1.0000\n",
            "Epoch 158/200\n",
            "36/36 [==============================] - 0s 4ms/step - loss: 3.0984e-04 - accuracy: 1.0000\n",
            "Epoch 159/200\n",
            "36/36 [==============================] - 0s 3ms/step - loss: 3.0047e-04 - accuracy: 1.0000\n",
            "Epoch 160/200\n",
            "36/36 [==============================] - 0s 3ms/step - loss: 2.9354e-04 - accuracy: 1.0000\n",
            "Epoch 161/200\n",
            "36/36 [==============================] - 0s 3ms/step - loss: 2.8785e-04 - accuracy: 1.0000\n",
            "Epoch 162/200\n",
            "36/36 [==============================] - 0s 3ms/step - loss: 2.8052e-04 - accuracy: 1.0000\n",
            "Epoch 163/200\n",
            "36/36 [==============================] - 0s 3ms/step - loss: 2.7382e-04 - accuracy: 1.0000\n",
            "Epoch 164/200\n",
            "36/36 [==============================] - 0s 3ms/step - loss: 2.6672e-04 - accuracy: 1.0000\n",
            "Epoch 165/200\n",
            "36/36 [==============================] - 0s 3ms/step - loss: 2.5989e-04 - accuracy: 1.0000\n",
            "Epoch 166/200\n",
            "36/36 [==============================] - 0s 3ms/step - loss: 2.5379e-04 - accuracy: 1.0000\n",
            "Epoch 167/200\n",
            "36/36 [==============================] - 0s 3ms/step - loss: 2.4784e-04 - accuracy: 1.0000\n",
            "Epoch 168/200\n",
            "36/36 [==============================] - 0s 3ms/step - loss: 2.4211e-04 - accuracy: 1.0000\n",
            "Epoch 169/200\n",
            "36/36 [==============================] - 0s 3ms/step - loss: 2.3678e-04 - accuracy: 1.0000\n",
            "Epoch 170/200\n",
            "36/36 [==============================] - 0s 3ms/step - loss: 2.3082e-04 - accuracy: 1.0000\n",
            "Epoch 171/200\n",
            "36/36 [==============================] - 0s 3ms/step - loss: 2.2494e-04 - accuracy: 1.0000\n",
            "Epoch 172/200\n",
            "36/36 [==============================] - 0s 3ms/step - loss: 2.1981e-04 - accuracy: 1.0000\n",
            "Epoch 173/200\n",
            "36/36 [==============================] - 0s 3ms/step - loss: 2.1474e-04 - accuracy: 1.0000\n",
            "Epoch 174/200\n",
            "36/36 [==============================] - 0s 3ms/step - loss: 2.1002e-04 - accuracy: 1.0000\n",
            "Epoch 175/200\n",
            "36/36 [==============================] - 0s 3ms/step - loss: 2.0581e-04 - accuracy: 1.0000\n",
            "Epoch 176/200\n",
            "36/36 [==============================] - 0s 4ms/step - loss: 2.0021e-04 - accuracy: 1.0000\n",
            "Epoch 177/200\n",
            "36/36 [==============================] - 0s 3ms/step - loss: 1.9580e-04 - accuracy: 1.0000\n",
            "Epoch 178/200\n",
            "36/36 [==============================] - 0s 3ms/step - loss: 1.9073e-04 - accuracy: 1.0000\n",
            "Epoch 179/200\n",
            "36/36 [==============================] - 0s 3ms/step - loss: 1.8644e-04 - accuracy: 1.0000\n",
            "Epoch 180/200\n",
            "36/36 [==============================] - 0s 3ms/step - loss: 1.8207e-04 - accuracy: 1.0000\n",
            "Epoch 181/200\n",
            "36/36 [==============================] - 0s 3ms/step - loss: 1.7806e-04 - accuracy: 1.0000\n",
            "Epoch 182/200\n",
            "36/36 [==============================] - 0s 3ms/step - loss: 1.7383e-04 - accuracy: 1.0000\n",
            "Epoch 183/200\n",
            "36/36 [==============================] - 0s 3ms/step - loss: 1.6988e-04 - accuracy: 1.0000\n",
            "Epoch 184/200\n",
            "36/36 [==============================] - 0s 3ms/step - loss: 1.6606e-04 - accuracy: 1.0000\n",
            "Epoch 185/200\n",
            "36/36 [==============================] - 0s 3ms/step - loss: 1.6232e-04 - accuracy: 1.0000\n",
            "Epoch 186/200\n",
            "36/36 [==============================] - 0s 3ms/step - loss: 1.5855e-04 - accuracy: 1.0000\n",
            "Epoch 187/200\n",
            "36/36 [==============================] - 0s 3ms/step - loss: 1.5485e-04 - accuracy: 1.0000\n",
            "Epoch 188/200\n",
            "36/36 [==============================] - 0s 3ms/step - loss: 1.5230e-04 - accuracy: 1.0000\n",
            "Epoch 189/200\n",
            "36/36 [==============================] - 0s 3ms/step - loss: 1.4775e-04 - accuracy: 1.0000\n",
            "Epoch 190/200\n",
            "36/36 [==============================] - 0s 3ms/step - loss: 1.4506e-04 - accuracy: 1.0000\n",
            "Epoch 191/200\n",
            "36/36 [==============================] - 0s 4ms/step - loss: 1.4154e-04 - accuracy: 1.0000\n",
            "Epoch 192/200\n",
            "36/36 [==============================] - 0s 3ms/step - loss: 1.3870e-04 - accuracy: 1.0000\n",
            "Epoch 193/200\n",
            "36/36 [==============================] - 0s 3ms/step - loss: 1.3526e-04 - accuracy: 1.0000\n",
            "Epoch 194/200\n",
            "36/36 [==============================] - 0s 3ms/step - loss: 1.3225e-04 - accuracy: 1.0000\n",
            "Epoch 195/200\n",
            "36/36 [==============================] - 0s 3ms/step - loss: 1.2898e-04 - accuracy: 1.0000\n",
            "Epoch 196/200\n",
            "36/36 [==============================] - 0s 3ms/step - loss: 1.2621e-04 - accuracy: 1.0000\n",
            "Epoch 197/200\n",
            "36/36 [==============================] - 0s 3ms/step - loss: 1.2326e-04 - accuracy: 1.0000\n",
            "Epoch 198/200\n",
            "36/36 [==============================] - 0s 3ms/step - loss: 1.2118e-04 - accuracy: 1.0000\n",
            "Epoch 199/200\n",
            "36/36 [==============================] - 0s 4ms/step - loss: 1.1791e-04 - accuracy: 1.0000\n",
            "Epoch 200/200\n",
            "36/36 [==============================] - 0s 3ms/step - loss: 1.1582e-04 - accuracy: 1.0000\n",
            "model created\n"
          ]
        }
      ],
      "source": [
        "#fitting and saving the model \n",
        "hist = model.fit(np.array(train_x), np.array(train_y), epochs=200, batch_size=5, verbose=1)\n",
        "model.save('inventoryChatbot.h5', hist)\n",
        "\n",
        "print(\"model created\")"
      ]
    },
    {
      "cell_type": "code",
      "execution_count": null,
      "metadata": {
        "id": "q6v--pzaUfzr"
      },
      "outputs": [],
      "source": [
        "from keras.models import load_model\n",
        "\n",
        "loaded_model = load_model('./inventoryChatbot.h5')\n",
        "\n",
        "intents = json.loads(open('./ims.json').read())\n",
        "\n",
        "words = pickle.load(open('./words.pkl','rb'))\n",
        "\n",
        "classes = pickle.load(open('./classes.pkl','rb'))\n",
        "\n"
      ]
    },
    {
      "cell_type": "code",
      "execution_count": null,
      "metadata": {
        "id": "gKJ7joCl1QFy",
        "colab": {
          "base_uri": "https://localhost:8080/"
        },
        "outputId": "e01bdd22-4d4b-4017-b219-5e2bec396e9f"
      },
      "outputs": [
        {
          "output_type": "stream",
          "name": "stdout",
          "text": [
            "Test accuracy: 100.000\n",
            "Test loss: 0.000\n"
          ]
        }
      ],
      "source": [
        "# Predict and evaluate accuracy\n",
        "# Use the Keras evaluate() method to get the accuracy\n",
        "loss, accuracy = loaded_model.evaluate(np.array(test_x), np.array(test_y), verbose=0)\n",
        "print(f'Test accuracy: {accuracy*100:.3f}')\n",
        "print(f'Test loss: {loss:.3f}')"
      ]
    },
    {
      "cell_type": "code",
      "execution_count": null,
      "metadata": {
        "id": "T02rw50_Vbau"
      },
      "outputs": [],
      "source": [
        "def clean_up_sentence(sentence):\n",
        "  # tokenize the pattern - split words into array\n",
        "\n",
        "  sentence_words = nltk.word_tokenize(sentence)\n",
        "  #print(sentence_words)\n",
        "  # stem each word - create short form for word\n",
        "\n",
        "  sentence_words = [lemmatizer.lemmatize(word.lower()) for word in sentence_words]\n",
        "  #print(sentence_words)\n",
        "\n",
        "  return sentence_words"
      ]
    },
    {
      "cell_type": "code",
      "execution_count": null,
      "metadata": {
        "id": "zHIIZq9lVm39"
      },
      "outputs": [],
      "source": [
        "def bow(sentence, words, show_details=True):\n",
        "  # tokenize the pattern\n",
        "\n",
        "  sentence_words = clean_up_sentence(sentence)\n",
        "  #print(sentence_words)\n",
        "\n",
        "  # bag of words - matrix of N words, vocabulary matrix\n",
        "\n",
        "  bag = [0]*len(words) \n",
        "  #print(bag)\n",
        "\n",
        "  for s in sentence_words:  \n",
        "      for i,w in enumerate(words):\n",
        "          if w == s: \n",
        "              # assign 1 if current word is in the vocabulary position\n",
        "              bag[i] = 1\n",
        "              if show_details:\n",
        "                  print (\"found in bag: %s\" % w)\n",
        "              #print (\"found in bag: %s\" % w)\n",
        "  #print(bag)\n",
        "  return(np.array(bag))              "
      ]
    },
    {
      "cell_type": "code",
      "execution_count": null,
      "metadata": {
        "id": "cZxLT5PcV8gt"
      },
      "outputs": [],
      "source": [
        "def predict_class(sentence, model):\n",
        "  # filter out predictions below a threshold\n",
        "\n",
        "  p = bow(sentence, words,show_details=False)\n",
        "  #print(p)\n",
        "\n",
        "  res = loaded_model.predict(np.array([p]))[0]\n",
        "  #print(res)\n",
        "\n",
        "  ERROR_THRESHOLD = 0.25\n",
        "\n",
        "  results = [[i,r] for i,r in enumerate(res) if r>ERROR_THRESHOLD]\n",
        "  #print(results)\n",
        "  # sort by strength of probability\n",
        "\n",
        "  results.sort(key=lambda x: x[1], reverse=True)\n",
        "  #print(results)\n",
        "  return_list = []\n",
        "\n",
        "  for r in results:\n",
        "      return_list.append({\"intent\": classes[r[0]], \"probability\": str(r[1])})\n",
        "\n",
        "  return return_list\n",
        "  #print(return_list)"
      ]
    },
    {
      "cell_type": "code",
      "execution_count": null,
      "metadata": {
        "id": "nzOnuqalWJKB"
      },
      "outputs": [],
      "source": [
        "def getResponse(ints, intents_json):\n",
        "  tag = ints[0]['intent']\n",
        "  #print(tag)\n",
        "\n",
        "  list_of_intents = intents_json['intents']\n",
        "  #print(list_of_intents)\n",
        "  for i in list_of_intents:\n",
        "      if(i['tag']== tag):\n",
        "          result = random.choice(i['responses'])\n",
        "          break  \n",
        "  return result"
      ]
    },
    {
      "cell_type": "code",
      "execution_count": null,
      "metadata": {
        "id": "mE9i54uyWZ6S"
      },
      "outputs": [],
      "source": [
        "def chatbot_response(text):\n",
        "   ints = predict_class(text, model)\n",
        "   #print(ints)\n",
        "\n",
        "   res = getResponse(ints, intents)\n",
        "   #print(res)\n",
        "   return res"
      ]
    },
    {
      "cell_type": "code",
      "execution_count": null,
      "metadata": {
        "id": "ME4GZqt8WqKQ",
        "colab": {
          "base_uri": "https://localhost:8080/"
        },
        "outputId": "f240d020-f40b-4cf9-b401-e6f08d596997"
      },
      "outputs": [
        {
          "name": "stdout",
          "output_type": "stream",
          "text": [
            "Enter Message:exit\n"
          ]
        }
      ],
      "source": [
        "start = True\n",
        "while start:\n",
        "  query = input('Enter Message:')\n",
        "  if query in ['quit','exit','bye']:\n",
        "      start = False\n",
        "      continue\n",
        "  try:\n",
        "      res = chatbot_response(query)\n",
        "      print(res)\n",
        "  except:\n",
        "      print('You may need to rephrase your question.')"
      ]
    }
  ],
  "metadata": {
    "colab": {
      "provenance": [],
      "gpuType": "T4",
      "include_colab_link": true
    },
    "kernelspec": {
      "display_name": "Python 3",
      "name": "python3"
    },
    "language_info": {
      "name": "python"
    },
    "accelerator": "GPU",
    "gpuClass": "standard"
  },
  "nbformat": 4,
  "nbformat_minor": 0
}